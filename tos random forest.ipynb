{
 "cells": [
  {
   "cell_type": "code",
   "execution_count": 11,
   "id": "398b073e",
   "metadata": {
    "_cell_guid": "b1076dfc-b9ad-4769-8c92-a6c4dae69d19",
    "_uuid": "8f2839f25d086af736a60e9eeb907d3b93b6e0e5",
    "execution": {
     "iopub.execute_input": "2022-12-08T02:30:51.051038Z",
     "iopub.status.busy": "2022-12-08T02:30:51.049652Z",
     "iopub.status.idle": "2022-12-08T02:30:51.070319Z",
     "shell.execute_reply": "2022-12-08T02:30:51.069374Z"
    },
    "papermill": {
     "duration": 0.029787,
     "end_time": "2022-12-08T02:30:51.073006",
     "exception": false,
     "start_time": "2022-12-08T02:30:51.043219",
     "status": "completed"
    },
    "tags": []
   },
   "outputs": [],
   "source": [
    "\n",
    "\n",
    "import numpy as np \n",
    "import pandas as pd \n",
    "\n",
    "\n",
    "\n"
   ]
  },
  {
   "cell_type": "code",
   "execution_count": 12,
   "id": "b4460115",
   "metadata": {
    "execution": {
     "iopub.execute_input": "2022-12-08T02:30:51.082875Z",
     "iopub.status.busy": "2022-12-08T02:30:51.081656Z",
     "iopub.status.idle": "2022-12-08T02:30:52.274193Z",
     "shell.execute_reply": "2022-12-08T02:30:52.273088Z"
    },
    "papermill": {
     "duration": 1.200079,
     "end_time": "2022-12-08T02:30:52.276980",
     "exception": false,
     "start_time": "2022-12-08T02:30:51.076901",
     "status": "completed"
    },
    "tags": []
   },
   "outputs": [],
   "source": [
    "import pandas as pd \n",
    "import numpy as np\n",
    "from sklearn.model_selection import train_test_split"
   ]
  },
  {
   "cell_type": "code",
   "execution_count": 13,
   "id": "632d1dd1",
   "metadata": {
    "execution": {
     "iopub.execute_input": "2022-12-08T02:30:52.287444Z",
     "iopub.status.busy": "2022-12-08T02:30:52.286646Z",
     "iopub.status.idle": "2022-12-08T02:30:52.340581Z",
     "shell.execute_reply": "2022-12-08T02:30:52.339314Z"
    },
    "papermill": {
     "duration": 0.061852,
     "end_time": "2022-12-08T02:30:52.343399",
     "exception": false,
     "start_time": "2022-12-08T02:30:52.281547",
     "status": "completed"
    },
    "tags": []
   },
   "outputs": [
    {
     "data": {
      "text/html": [
       "<div>\n",
       "<style scoped>\n",
       "    .dataframe tbody tr th:only-of-type {\n",
       "        vertical-align: middle;\n",
       "    }\n",
       "\n",
       "    .dataframe tbody tr th {\n",
       "        vertical-align: top;\n",
       "    }\n",
       "\n",
       "    .dataframe thead th {\n",
       "        text-align: right;\n",
       "    }\n",
       "</style>\n",
       "<table border=\"1\" class=\"dataframe\">\n",
       "  <thead>\n",
       "    <tr style=\"text-align: right;\">\n",
       "      <th></th>\n",
       "      <th>clauses</th>\n",
       "      <th>fairness level</th>\n",
       "    </tr>\n",
       "  </thead>\n",
       "  <tbody>\n",
       "    <tr>\n",
       "      <th>0</th>\n",
       "      <td>['thi', 'servic', 'do', 'not', 'sell', 'your',...</td>\n",
       "      <td>0</td>\n",
       "    </tr>\n",
       "    <tr>\n",
       "      <th>1</th>\n",
       "      <td>['thi', 'servic', 'will', 'warn', 'user', 'abo...</td>\n",
       "      <td>0</td>\n",
       "    </tr>\n",
       "    <tr>\n",
       "      <th>2</th>\n",
       "      <td>['you', 'can', 'request', 'access', 'and', 'de...</td>\n",
       "      <td>0</td>\n",
       "    </tr>\n",
       "    <tr>\n",
       "      <th>3</th>\n",
       "      <td>['the', 'user', 'be', 'inform', 'about', 'secu...</td>\n",
       "      <td>0</td>\n",
       "    </tr>\n",
       "    <tr>\n",
       "      <th>4</th>\n",
       "      <td>['the', 'servic', 'provid', 'a', 'complaint', ...</td>\n",
       "      <td>0</td>\n",
       "    </tr>\n",
       "  </tbody>\n",
       "</table>\n",
       "</div>"
      ],
      "text/plain": [
       "                                             clauses  fairness level\n",
       "0  ['thi', 'servic', 'do', 'not', 'sell', 'your',...               0\n",
       "1  ['thi', 'servic', 'will', 'warn', 'user', 'abo...               0\n",
       "2  ['you', 'can', 'request', 'access', 'and', 'de...               0\n",
       "3  ['the', 'user', 'be', 'inform', 'about', 'secu...               0\n",
       "4  ['the', 'servic', 'provid', 'a', 'complaint', ...               0"
      ]
     },
     "execution_count": 13,
     "metadata": {},
     "output_type": "execute_result"
    }
   ],
   "source": [
    "df=pd.read_csv('D:/tos dataset/book4.csv')\n",
    "df.head()"
   ]
  },
  {
   "cell_type": "code",
   "execution_count": 14,
   "id": "462569ea",
   "metadata": {
    "execution": {
     "iopub.execute_input": "2022-12-08T02:30:52.353895Z",
     "iopub.status.busy": "2022-12-08T02:30:52.353168Z",
     "iopub.status.idle": "2022-12-08T02:30:52.393984Z",
     "shell.execute_reply": "2022-12-08T02:30:52.392856Z"
    },
    "papermill": {
     "duration": 0.048887,
     "end_time": "2022-12-08T02:30:52.396556",
     "exception": false,
     "start_time": "2022-12-08T02:30:52.347669",
     "status": "completed"
    },
    "tags": []
   },
   "outputs": [
    {
     "data": {
      "text/html": [
       "<div>\n",
       "<style scoped>\n",
       "    .dataframe tbody tr th:only-of-type {\n",
       "        vertical-align: middle;\n",
       "    }\n",
       "\n",
       "    .dataframe tbody tr th {\n",
       "        vertical-align: top;\n",
       "    }\n",
       "\n",
       "    .dataframe thead tr th {\n",
       "        text-align: left;\n",
       "    }\n",
       "\n",
       "    .dataframe thead tr:last-of-type th {\n",
       "        text-align: right;\n",
       "    }\n",
       "</style>\n",
       "<table border=\"1\" class=\"dataframe\">\n",
       "  <thead>\n",
       "    <tr>\n",
       "      <th></th>\n",
       "      <th colspan=\"4\" halign=\"left\">clauses</th>\n",
       "    </tr>\n",
       "    <tr>\n",
       "      <th></th>\n",
       "      <th>count</th>\n",
       "      <th>unique</th>\n",
       "      <th>top</th>\n",
       "      <th>freq</th>\n",
       "    </tr>\n",
       "    <tr>\n",
       "      <th>fairness level</th>\n",
       "      <th></th>\n",
       "      <th></th>\n",
       "      <th></th>\n",
       "      <th></th>\n",
       "    </tr>\n",
       "  </thead>\n",
       "  <tbody>\n",
       "    <tr>\n",
       "      <th>0</th>\n",
       "      <td>472</td>\n",
       "      <td>405</td>\n",
       "      <td>['the', 'privaci', 'polici', 'explain', 'the',...</td>\n",
       "      <td>4</td>\n",
       "    </tr>\n",
       "    <tr>\n",
       "      <th>1</th>\n",
       "      <td>839</td>\n",
       "      <td>596</td>\n",
       "      <td>['thi', 'servic', 'assum', 'no', 'liabil', 'fo...</td>\n",
       "      <td>7</td>\n",
       "    </tr>\n",
       "  </tbody>\n",
       "</table>\n",
       "</div>"
      ],
      "text/plain": [
       "               clauses          \n",
       "                 count unique   \n",
       "fairness level                  \n",
       "0                  472    405  \\\n",
       "1                  839    596   \n",
       "\n",
       "                                                                        \n",
       "                                                              top freq  \n",
       "fairness level                                                          \n",
       "0               ['the', 'privaci', 'polici', 'explain', 'the',...    4  \n",
       "1               ['thi', 'servic', 'assum', 'no', 'liabil', 'fo...    7  "
      ]
     },
     "execution_count": 14,
     "metadata": {},
     "output_type": "execute_result"
    }
   ],
   "source": [
    "df.groupby('fairness level').describe()"
   ]
  },
  {
   "cell_type": "code",
   "execution_count": 15,
   "id": "196f31ce",
   "metadata": {
    "execution": {
     "iopub.execute_input": "2022-12-08T02:30:52.435891Z",
     "iopub.status.busy": "2022-12-08T02:30:52.435070Z",
     "iopub.status.idle": "2022-12-08T02:30:52.712448Z",
     "shell.execute_reply": "2022-12-08T02:30:52.710907Z"
    },
    "papermill": {
     "duration": 0.285897,
     "end_time": "2022-12-08T02:30:52.715306",
     "exception": false,
     "start_time": "2022-12-08T02:30:52.429409",
     "status": "completed"
    },
    "tags": []
   },
   "outputs": [],
   "source": [
    "from sklearn.feature_extraction.text import CountVectorizer\n",
    "v=CountVectorizer()\n",
    "count=v.fit_transform(df['clauses'])\n",
    "count.toarray()[:2]\n",
    "ans=df['fairness level']"
   ]
  },
  {
   "cell_type": "code",
   "execution_count": 16,
   "id": "170b9222",
   "metadata": {
    "execution": {
     "iopub.execute_input": "2022-12-08T02:30:52.725935Z",
     "iopub.status.busy": "2022-12-08T02:30:52.725566Z",
     "iopub.status.idle": "2022-12-08T02:30:52.733628Z",
     "shell.execute_reply": "2022-12-08T02:30:52.732174Z"
    },
    "papermill": {
     "duration": 0.016304,
     "end_time": "2022-12-08T02:30:52.736160",
     "exception": false,
     "start_time": "2022-12-08T02:30:52.719856",
     "status": "completed"
    },
    "tags": []
   },
   "outputs": [],
   "source": [
    "X_train,X_test,Y_train,Y_test=train_test_split(count,ans,test_size=0.2,random_state=1)"
   ]
  },
  {
   "cell_type": "code",
   "execution_count": 17,
   "id": "d9ac145c",
   "metadata": {
    "execution": {
     "iopub.execute_input": "2022-12-08T02:30:52.746843Z",
     "iopub.status.busy": "2022-12-08T02:30:52.746123Z",
     "iopub.status.idle": "2022-12-08T02:30:52.752820Z",
     "shell.execute_reply": "2022-12-08T02:30:52.751794Z"
    },
    "papermill": {
     "duration": 0.014233,
     "end_time": "2022-12-08T02:30:52.754937",
     "exception": false,
     "start_time": "2022-12-08T02:30:52.740704",
     "status": "completed"
    },
    "tags": []
   },
   "outputs": [
    {
     "data": {
      "text/plain": [
       "(1048, 1868)"
      ]
     },
     "execution_count": 17,
     "metadata": {},
     "output_type": "execute_result"
    }
   ],
   "source": [
    "X_train.shape"
   ]
  },
  {
   "cell_type": "code",
   "execution_count": 18,
   "id": "ebf1c914",
   "metadata": {
    "execution": {
     "iopub.execute_input": "2022-12-08T02:30:52.766673Z",
     "iopub.status.busy": "2022-12-08T02:30:52.766303Z",
     "iopub.status.idle": "2022-12-08T02:30:52.773870Z",
     "shell.execute_reply": "2022-12-08T02:30:52.772696Z"
    },
    "papermill": {
     "duration": 0.015823,
     "end_time": "2022-12-08T02:30:52.776284",
     "exception": false,
     "start_time": "2022-12-08T02:30:52.760461",
     "status": "completed"
    },
    "tags": []
   },
   "outputs": [
    {
     "data": {
      "text/html": [
       "<style>#sk-container-id-2 {color: black;background-color: white;}#sk-container-id-2 pre{padding: 0;}#sk-container-id-2 div.sk-toggleable {background-color: white;}#sk-container-id-2 label.sk-toggleable__label {cursor: pointer;display: block;width: 100%;margin-bottom: 0;padding: 0.3em;box-sizing: border-box;text-align: center;}#sk-container-id-2 label.sk-toggleable__label-arrow:before {content: \"▸\";float: left;margin-right: 0.25em;color: #696969;}#sk-container-id-2 label.sk-toggleable__label-arrow:hover:before {color: black;}#sk-container-id-2 div.sk-estimator:hover label.sk-toggleable__label-arrow:before {color: black;}#sk-container-id-2 div.sk-toggleable__content {max-height: 0;max-width: 0;overflow: hidden;text-align: left;background-color: #f0f8ff;}#sk-container-id-2 div.sk-toggleable__content pre {margin: 0.2em;color: black;border-radius: 0.25em;background-color: #f0f8ff;}#sk-container-id-2 input.sk-toggleable__control:checked~div.sk-toggleable__content {max-height: 200px;max-width: 100%;overflow: auto;}#sk-container-id-2 input.sk-toggleable__control:checked~label.sk-toggleable__label-arrow:before {content: \"▾\";}#sk-container-id-2 div.sk-estimator input.sk-toggleable__control:checked~label.sk-toggleable__label {background-color: #d4ebff;}#sk-container-id-2 div.sk-label input.sk-toggleable__control:checked~label.sk-toggleable__label {background-color: #d4ebff;}#sk-container-id-2 input.sk-hidden--visually {border: 0;clip: rect(1px 1px 1px 1px);clip: rect(1px, 1px, 1px, 1px);height: 1px;margin: -1px;overflow: hidden;padding: 0;position: absolute;width: 1px;}#sk-container-id-2 div.sk-estimator {font-family: monospace;background-color: #f0f8ff;border: 1px dotted black;border-radius: 0.25em;box-sizing: border-box;margin-bottom: 0.5em;}#sk-container-id-2 div.sk-estimator:hover {background-color: #d4ebff;}#sk-container-id-2 div.sk-parallel-item::after {content: \"\";width: 100%;border-bottom: 1px solid gray;flex-grow: 1;}#sk-container-id-2 div.sk-label:hover label.sk-toggleable__label {background-color: #d4ebff;}#sk-container-id-2 div.sk-serial::before {content: \"\";position: absolute;border-left: 1px solid gray;box-sizing: border-box;top: 0;bottom: 0;left: 50%;z-index: 0;}#sk-container-id-2 div.sk-serial {display: flex;flex-direction: column;align-items: center;background-color: white;padding-right: 0.2em;padding-left: 0.2em;position: relative;}#sk-container-id-2 div.sk-item {position: relative;z-index: 1;}#sk-container-id-2 div.sk-parallel {display: flex;align-items: stretch;justify-content: center;background-color: white;position: relative;}#sk-container-id-2 div.sk-item::before, #sk-container-id-2 div.sk-parallel-item::before {content: \"\";position: absolute;border-left: 1px solid gray;box-sizing: border-box;top: 0;bottom: 0;left: 50%;z-index: -1;}#sk-container-id-2 div.sk-parallel-item {display: flex;flex-direction: column;z-index: 1;position: relative;background-color: white;}#sk-container-id-2 div.sk-parallel-item:first-child::after {align-self: flex-end;width: 50%;}#sk-container-id-2 div.sk-parallel-item:last-child::after {align-self: flex-start;width: 50%;}#sk-container-id-2 div.sk-parallel-item:only-child::after {width: 0;}#sk-container-id-2 div.sk-dashed-wrapped {border: 1px dashed gray;margin: 0 0.4em 0.5em 0.4em;box-sizing: border-box;padding-bottom: 0.4em;background-color: white;}#sk-container-id-2 div.sk-label label {font-family: monospace;font-weight: bold;display: inline-block;line-height: 1.2em;}#sk-container-id-2 div.sk-label-container {text-align: center;}#sk-container-id-2 div.sk-container {/* jupyter's `normalize.less` sets `[hidden] { display: none; }` but bootstrap.min.css set `[hidden] { display: none !important; }` so we also need the `!important` here to be able to override the default hidden behavior on the sphinx rendered scikit-learn.org. See: https://github.com/scikit-learn/scikit-learn/issues/21755 */display: inline-block !important;position: relative;}#sk-container-id-2 div.sk-text-repr-fallback {display: none;}</style><div id=\"sk-container-id-2\" class=\"sk-top-container\"><div class=\"sk-text-repr-fallback\"><pre>RandomForestClassifier()</pre><b>In a Jupyter environment, please rerun this cell to show the HTML representation or trust the notebook. <br />On GitHub, the HTML representation is unable to render, please try loading this page with nbviewer.org.</b></div><div class=\"sk-container\" hidden><div class=\"sk-item\"><div class=\"sk-estimator sk-toggleable\"><input class=\"sk-toggleable__control sk-hidden--visually\" id=\"sk-estimator-id-2\" type=\"checkbox\" checked><label for=\"sk-estimator-id-2\" class=\"sk-toggleable__label sk-toggleable__label-arrow\">RandomForestClassifier</label><div class=\"sk-toggleable__content\"><pre>RandomForestClassifier()</pre></div></div></div></div></div>"
      ],
      "text/plain": [
       "RandomForestClassifier()"
      ]
     },
     "execution_count": 18,
     "metadata": {},
     "output_type": "execute_result"
    }
   ],
   "source": [
    "\n",
    "from sklearn.ensemble import RandomForestClassifier\n",
    "\n",
    "classifier = RandomForestClassifier()\n",
    "classifier.fit(X_train, Y_train)\n",
    "\n"
   ]
  },
  {
   "cell_type": "code",
   "execution_count": null,
   "id": "b8c3ce78",
   "metadata": {
    "execution": {
     "iopub.execute_input": "2022-12-08T02:30:52.787116Z",
     "iopub.status.busy": "2022-12-08T02:30:52.786722Z",
     "iopub.status.idle": "2022-12-08T02:30:52.799174Z",
     "shell.execute_reply": "2022-12-08T02:30:52.798354Z"
    },
    "papermill": {
     "duration": 0.02051,
     "end_time": "2022-12-08T02:30:52.801440",
     "exception": false,
     "start_time": "2022-12-08T02:30:52.780930",
     "status": "completed"
    },
    "tags": []
   },
   "outputs": [],
   "source": []
  },
  {
   "cell_type": "code",
   "execution_count": 19,
   "id": "75a817dc",
   "metadata": {
    "execution": {
     "iopub.execute_input": "2022-12-08T02:30:52.812993Z",
     "iopub.status.busy": "2022-12-08T02:30:52.812619Z",
     "iopub.status.idle": "2022-12-08T02:30:52.821673Z",
     "shell.execute_reply": "2022-12-08T02:30:52.820517Z"
    },
    "papermill": {
     "duration": 0.017179,
     "end_time": "2022-12-08T02:30:52.823786",
     "exception": false,
     "start_time": "2022-12-08T02:30:52.806607",
     "status": "completed"
    },
    "tags": []
   },
   "outputs": [
    {
     "name": "stdout",
     "output_type": "stream",
     "text": [
      "0.8022813688212928\n",
      "              precision    recall  f1-score   support\n",
      "\n",
      "           0       0.90      0.42      0.57        83\n",
      "           1       0.79      0.98      0.87       180\n",
      "\n",
      "    accuracy                           0.80       263\n",
      "   macro avg       0.84      0.70      0.72       263\n",
      "weighted avg       0.82      0.80      0.78       263\n",
      "\n"
     ]
    }
   ],
   "source": [
    "from sklearn.metrics import accuracy_score,  classification_report\n",
    "import matplotlib.pyplot as plt\n",
    "import seaborn as sns\n",
    "y_predict=classifier.predict(X_test)\n",
    "print(accuracy_score(Y_test, y_predict))\n",
    "print(classification_report(Y_test, y_predict))\n"
   ]
  },
  {
   "cell_type": "code",
   "execution_count": null,
   "id": "bd59607b",
   "metadata": {},
   "outputs": [],
   "source": [
    "\n"
   ]
  }
 ],
 "metadata": {
  "kernelspec": {
   "display_name": "Python 3",
   "language": "python",
   "name": "python3"
  },
  "language_info": {
   "codemirror_mode": {
    "name": "ipython",
    "version": 3
   },
   "file_extension": ".py",
   "mimetype": "text/x-python",
   "name": "python",
   "nbconvert_exporter": "python",
   "pygments_lexer": "ipython3",
   "version": "3.10.9"
  },
  "papermill": {
   "default_parameters": {},
   "duration": 11.035585,
   "end_time": "2022-12-08T02:30:53.559394",
   "environment_variables": {},
   "exception": null,
   "input_path": "__notebook__.ipynb",
   "output_path": "__notebook__.ipynb",
   "parameters": {},
   "start_time": "2022-12-08T02:30:42.523809",
   "version": "2.3.4"
  }
 },
 "nbformat": 4,
 "nbformat_minor": 5
}
